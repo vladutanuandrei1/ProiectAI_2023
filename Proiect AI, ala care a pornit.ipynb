{
 "cells": [
  {
   "cell_type": "code",
   "execution_count": 17,
   "metadata": {
    "id": "qnPAaXjL0CGF"
   },
   "outputs": [],
   "source": [
    "import cv2\n",
    "import numpy as np \n",
    "import matplotlib.pyplot as plt "
   ]
  },
  {
   "cell_type": "code",
   "execution_count": 18,
   "metadata": {
    "id": "W8WhWx9b8Hd8"
   },
   "outputs": [],
   "source": [
    "def find_error(observation,previous_error):\n",
    "\n",
    "  def green_mask(observation):\n",
    "    hsv = cv2.cvtColor(observation, cv2.COLOR_BGR2HSV)\n",
    "    mask_green = cv2.inRange(hsv, (36, 25, 25), (70, 255,255))\n",
    "\n",
    "    ## slice the green\n",
    "    imask_green = mask_green>0\n",
    "    green = np.zeros_like(observation, np.uint8)\n",
    "    green[imask_green] = observation[imask_green]\n",
    "    return(green)\n",
    "\n",
    "\n",
    "  def gray_scale(observation):\n",
    "    gray = cv2.cvtColor(observation, cv2.COLOR_RGB2GRAY)\n",
    "    return gray\n",
    "\n",
    "\n",
    "  def blur_image(observation):\n",
    "    blur = cv2.GaussianBlur(observation, (5, 5), 0)\n",
    "    return blur\n",
    "\n",
    "\n",
    "  def canny_edge_detector(observation):\n",
    "    canny = cv2.Canny(observation, 50, 150)\n",
    "    return canny\n",
    "\n",
    "\n",
    "  cropped = observation[63:65, 24:73]\n",
    "\n",
    "\n",
    "  green = green_mask(cropped)\n",
    "  grey  = gray_scale(green)\n",
    "  blur  = blur_image(grey)\n",
    "  canny = canny_edge_detector(blur)\n",
    "\n",
    "  #find all non zero values in the cropped strip.\n",
    "  #These non zero points(white pixels) corresponds to the edges of the road\n",
    "  nz = cv2.findNonZero(canny)\n",
    "\n",
    "  #horizontal cordinates of center of the road in the cropped slice\n",
    "  mid  = 24\n",
    "  \n",
    "  # some further adjustments obtained through trail and error\n",
    "  if nz[:,0,0].max() == nz[:,0,0].min():\n",
    "    if nz[:,0,0].max() <30 and nz[:,0,0].max()>20:\n",
    "      return previous_error\n",
    "    if nz[:,0,0].max() >= mid:\n",
    "      return(-15)\n",
    "    else:\n",
    "      return(+15)\n",
    "  else:\n",
    "    return(((nz[:,0,0].max() + nz[:,0,0].min())/2)-mid)\n",
    "\n"
   ]
  },
  {
   "cell_type": "code",
   "execution_count": 19,
   "metadata": {
    "id": "9x8axrd20CLS"
   },
   "outputs": [],
   "source": [
    "def pid(error,previous_error):\n",
    "    Kp = 0.02\n",
    "    Ki = 0.03\n",
    "    Kd = 0.2   \n",
    "\n",
    "    steering = Kp * error + Ki * (error + previous_error) + Kd * (error - previous_error)\n",
    "\n",
    "    return steering"
   ]
  },
  {
   "cell_type": "code",
   "execution_count": 24,
   "metadata": {
    "colab": {
     "base_uri": "https://localhost:8080/",
     "height": 488
    },
    "id": "yVm7Hg0s0CNz",
    "outputId": "525f372f-72cd-4242-f851-d5512655e1ec"
   },
   "outputs": [
    {
     "name": "stdout",
     "output_type": "stream",
     "text": [
      "error\n",
      "reward 746.6898954703726\n"
     ]
    }
   ],
   "source": [
    "import gym\n",
    "\n",
    "env = gym.make('CarRacing-v2', render_mode=\"human\")\n",
    "\n",
    "observation = env.reset()\n",
    "env.render() \n",
    "rewardsum = 0  \n",
    "previous_error = 0    \n",
    "\n",
    "for x in [1,0]*500:      \n",
    "  \n",
    "    try:\n",
    "      error = find_error(observation,previous_error)\n",
    "    except:\n",
    "      error = -15\n",
    "      print(\"error\")\n",
    "      pass\n",
    "\n",
    "    steering = pid(error,previous_error)\n",
    "   \n",
    "    action = (steering,x,0)\n",
    "\n",
    "    observation, reward, done, info, empty = env.step(action)\n",
    "    previous_error =error\n",
    "    rewardsum = rewardsum +reward\n",
    "\n",
    "    if done :\n",
    "      env.close()\n",
    "      break\n",
    "    \n",
    "print(\"reward\", rewardsum)\n",
    "env.close()"
   ]
  },
  {
   "cell_type": "code",
   "execution_count": 21,
   "metadata": {},
   "outputs": [],
   "source": [
    "env.close()"
   ]
  },
  {
   "cell_type": "code",
   "execution_count": null,
   "metadata": {},
   "outputs": [],
   "source": []
  }
 ],
 "metadata": {
  "colab": {
   "authorship_tag": "ABX9TyPyuqfT5HdtOeuYPMTojRaf",
   "collapsed_sections": [],
   "include_colab_link": true,
   "name": "Solving OpenAI CarRacing-v0 using PID controllers .ipynb",
   "provenance": []
  },
  "kernelspec": {
   "display_name": "Python 3 (ipykernel)",
   "language": "python",
   "name": "python3"
  },
  "language_info": {
   "codemirror_mode": {
    "name": "ipython",
    "version": 3
   },
   "file_extension": ".py",
   "mimetype": "text/x-python",
   "name": "python",
   "nbconvert_exporter": "python",
   "pygments_lexer": "ipython3",
   "version": "3.10.11"
  }
 },
 "nbformat": 4,
 "nbformat_minor": 1
}
